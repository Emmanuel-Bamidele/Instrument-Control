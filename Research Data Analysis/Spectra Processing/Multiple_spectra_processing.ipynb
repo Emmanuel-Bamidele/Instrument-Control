{
 "cells": [
  {
   "cell_type": "code",
   "execution_count": null,
   "id": "def3508e",
   "metadata": {
    "scrolled": false
   },
   "outputs": [],
   "source": [
    "import os\n",
    "import pandas as pd\n",
    "import seaborn as sns\n",
    "import matplotlib as mpl\n",
    "from matplotlib import pyplot as plt\n",
    "from scipy.signal import savgol_filter\n",
    "\n",
    "def loop_directory(directory: str):\n",
    "    '''Loop files in the specified directory'''\n",
    "    \n",
    "    for filename in os.listdir(directory):\n",
    "        if filename.endswith(\".txt\"):\n",
    "            file_directory = os.path.join(directory, filename)\n",
    "            print(file_directory)\n",
    "            \n",
    "            column_names = ['Wavelength', 'Intensity']\n",
    "            df = pd.read_csv(file_directory, delimiter=\"\\t\", names=column_names, header=None)\n",
    "            df['Energy'] = ((4.14e-15)*(3e17))/df.Wavelength\n",
    "            \n",
    "            plt.rc('font', family='serif', serif='Times')\n",
    "            plt.rc('xtick', labelsize=22)\n",
    "            plt.rc('ytick', labelsize=22)\n",
    "            plt.rc('axes', labelsize=22)\n",
    "\n",
    "            plt.rcParams['font.size'] = 22\n",
    "            plt.rcParams['axes.linewidth'] = 2\n",
    "\n",
    "            # width as measured in inkscape\n",
    "            width = 13\n",
    "            height = width / 1.5\n",
    "\n",
    "            fig, ax = plt.subplots()\n",
    "            fig.subplots_adjust(left=.15, bottom=.16, right=.99, top=.97)\n",
    "\n",
    "            x = df.Wavelength\n",
    "            x2 = df.Energy\n",
    "            y = df.Intensity\n",
    "            y2 = savgol_filter(y, 301, 3)\n",
    "            \n",
    "            #plt.plot(x, y/1000) #change to x2 to smoothen curve\n",
    "            #ax.set_xlabel('Wavelength (nm)', labelpad=18, fontsize=22)\n",
    "            \n",
    "            \n",
    "            plt.plot(x2, y2/1000, color='red', lw=4)\n",
    "            ax.set_xlabel('Energy (ev)', labelpad=18, fontsize=22)\n",
    "            \n",
    "            ax.set_ylabel('Intensity (a.u)', labelpad=18, fontsize=22)\n",
    "            ax.set_ylim(-0.1, 65)#(df.Intensity.max() + 500)/1000)\n",
    "\n",
    "            fig.set_size_inches(width, height)\n",
    "            \n",
    "            results_dir = os.path.join(directory, 'Figures/')\n",
    "            if not os.path.isdir(results_dir):\n",
    "                os.makedirs(results_dir)\n",
    "                \n",
    "            save_name = filename.rsplit( \".\", 1 )[ 0 ] + '.jpeg'\n",
    "            plt.savefig(results_dir + save_name, dpi=600, transparent=False, bbox_inches='tight')\n",
    "\n",
    "            \n",
    "if __name__ =='__main__':\n",
    "    loop_directory('/Users/...');"
   ]
  }
 ],
 "metadata": {
  "kernelspec": {
   "display_name": "Python 3 (ipykernel)",
   "language": "python",
   "name": "python3"
  },
  "language_info": {
   "codemirror_mode": {
    "name": "ipython",
    "version": 3
   },
   "file_extension": ".py",
   "mimetype": "text/x-python",
   "name": "python",
   "nbconvert_exporter": "python",
   "pygments_lexer": "ipython3",
   "version": "3.8.12"
  }
 },
 "nbformat": 4,
 "nbformat_minor": 5
}
