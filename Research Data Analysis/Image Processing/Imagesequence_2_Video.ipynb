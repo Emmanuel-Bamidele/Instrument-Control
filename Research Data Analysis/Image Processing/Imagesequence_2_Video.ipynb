{
 "cells": [
  {
   "cell_type": "code",
   "execution_count": null,
   "id": "cd05cfe5",
   "metadata": {},
   "outputs": [],
   "source": [
    "def image_to_video(image_folder_path: str, fps, extension:str, video_name:str, output_format:str):\n",
    "    \n",
    "    '''Convert all the images in a specified directory to vieo at a specified framerate\n",
    "        - image_folder_path is the directory of the images\n",
    "        - fps is the number of frames per seconds\n",
    "        - extension could be .jpeg, .tiff, .png etc depending on the image format\n",
    "        - video_name is the name of video file created\n",
    "        - output_format is the format of the created video, could be .mp4, .avi, .mov, etc\n",
    "    '''\n",
    "    \n",
    "    import os\n",
    "    import moviepy.video.io.ImageSequenceClip\n",
    "    \n",
    "    images = [image_folder_path+'/'+img for img in os.listdir(image_folder_path) if img.endswith(extension)]\n",
    "    movie_clip = moviepy.video.io.ImageSequenceClip.ImageSequenceClip(images, fps)\n",
    "    movie_clip.write_videofile(video_name+output_format)\n",
    "    \n",
    "if __name__ =='__main__':\n",
    "    image_to_video('/Users/...', 54, '.jpeg', 'Spectra_video', '.mov');"
   ]
  }
 ],
 "metadata": {
  "kernelspec": {
   "display_name": "Python 3 (ipykernel)",
   "language": "python",
   "name": "python3"
  },
  "language_info": {
   "codemirror_mode": {
    "name": "ipython",
    "version": 3
   },
   "file_extension": ".py",
   "mimetype": "text/x-python",
   "name": "python",
   "nbconvert_exporter": "python",
   "pygments_lexer": "ipython3",
   "version": "3.8.12"
  }
 },
 "nbformat": 4,
 "nbformat_minor": 5
}
